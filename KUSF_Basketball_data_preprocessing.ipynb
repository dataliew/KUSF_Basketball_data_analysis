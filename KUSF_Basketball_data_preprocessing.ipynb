{
 "cells": [
  {
   "cell_type": "code",
   "execution_count": 10,
   "id": "d5fde993",
   "metadata": {},
   "outputs": [],
   "source": [
    "import numpy as np\n",
    "import pandas as pd"
   ]
  },
  {
   "cell_type": "code",
   "execution_count": 11,
   "id": "cbda5db9",
   "metadata": {},
   "outputs": [],
   "source": [
    "#Load excel files\n",
    "df_2022_mid = pd.read_excel('2022_mid_div_stat.xlsx')\n",
    "df_2022_south = pd.read_excel('2022_south_div_stat.xlsx')\n",
    "df_2022_finals = pd.read_excel('2022_finals_stat.xlsx')\n",
    "df_2021_mid = pd.read_excel('2021_mid_div_stat.xlsx')\n",
    "df_2021_south = pd.read_excel('2021_south_div_stat.xlsx')\n",
    "df_2021_finals = pd.read_excel('2021_finals_stat.xlsx')\n",
    "df_2020_mid = pd.read_excel('2020_mid_div_stat.xlsx')\n",
    "df_2020_south = pd.read_excel('2020_south_div_stat.xlsx')\n",
    "df_2020_finals = pd.read_excel('2022_finals_stat.xlsx')"
   ]
  },
  {
   "cell_type": "code",
   "execution_count": 12,
   "id": "e01e3811",
   "metadata": {},
   "outputs": [
    {
     "data": {
      "text/plain": [
       "(734, 9)"
      ]
     },
     "execution_count": 12,
     "metadata": {},
     "output_type": "execute_result"
    }
   ],
   "source": [
    "df_2022_mid.shape"
   ]
  },
  {
   "cell_type": "code",
   "execution_count": 13,
   "id": "722d2ca1",
   "metadata": {},
   "outputs": [
    {
     "name": "stdout",
     "output_type": "stream",
     "text": [
      "<class 'pandas.core.frame.DataFrame'>\n",
      "RangeIndex: 734 entries, 0 to 733\n",
      "Data columns (total 9 columns):\n",
      " #   Column  Non-Null Count  Dtype \n",
      "---  ------  --------------  ----- \n",
      " 0   열1      734 non-null    object\n",
      " 1   열2      734 non-null    object\n",
      " 2   열3      734 non-null    object\n",
      " 3   열4      734 non-null    object\n",
      " 4   열5      734 non-null    object\n",
      " 5   열6      734 non-null    object\n",
      " 6   열7      734 non-null    object\n",
      " 7   열8      734 non-null    object\n",
      " 8   열9      734 non-null    object\n",
      "dtypes: object(9)\n",
      "memory usage: 51.7+ KB\n"
     ]
    }
   ],
   "source": [
    "df_2022_mid.info()"
   ]
  },
  {
   "cell_type": "code",
   "execution_count": 14,
   "id": "c680232b",
   "metadata": {},
   "outputs": [
    {
     "data": {
      "text/html": [
       "<div>\n",
       "<style scoped>\n",
       "    .dataframe tbody tr th:only-of-type {\n",
       "        vertical-align: middle;\n",
       "    }\n",
       "\n",
       "    .dataframe tbody tr th {\n",
       "        vertical-align: top;\n",
       "    }\n",
       "\n",
       "    .dataframe thead th {\n",
       "        text-align: right;\n",
       "    }\n",
       "</style>\n",
       "<table border=\"1\" class=\"dataframe\">\n",
       "  <thead>\n",
       "    <tr style=\"text-align: right;\">\n",
       "      <th></th>\n",
       "      <th>열1</th>\n",
       "      <th>열2</th>\n",
       "      <th>열3</th>\n",
       "      <th>열4</th>\n",
       "      <th>열5</th>\n",
       "      <th>열6</th>\n",
       "      <th>열7</th>\n",
       "      <th>열8</th>\n",
       "      <th>열9</th>\n",
       "    </tr>\n",
       "  </thead>\n",
       "  <tbody>\n",
       "    <tr>\n",
       "      <th>0</th>\n",
       "      <td>Matches</td>\n",
       "      <td>Scores</td>\n",
       "      <td>Assists</td>\n",
       "      <td>Rebounds</td>\n",
       "      <td>Steals</td>\n",
       "      <td>Blocks</td>\n",
       "      <td>2-pointers</td>\n",
       "      <td>3-pointers</td>\n",
       "      <td>Free_Throw</td>\n",
       "    </tr>\n",
       "    <tr>\n",
       "      <th>1</th>\n",
       "      <td>7</td>\n",
       "      <td>144</td>\n",
       "      <td>7</td>\n",
       "      <td>38</td>\n",
       "      <td>9</td>\n",
       "      <td>13</td>\n",
       "      <td>56</td>\n",
       "      <td>3</td>\n",
       "      <td>23</td>\n",
       "    </tr>\n",
       "    <tr>\n",
       "      <th>2</th>\n",
       "      <td>7</td>\n",
       "      <td>124</td>\n",
       "      <td>7</td>\n",
       "      <td>21</td>\n",
       "      <td>13</td>\n",
       "      <td>2</td>\n",
       "      <td>16</td>\n",
       "      <td>27</td>\n",
       "      <td>11</td>\n",
       "    </tr>\n",
       "    <tr>\n",
       "      <th>3</th>\n",
       "      <td>4</td>\n",
       "      <td>108</td>\n",
       "      <td>9</td>\n",
       "      <td>22</td>\n",
       "      <td>8</td>\n",
       "      <td>2</td>\n",
       "      <td>23</td>\n",
       "      <td>14</td>\n",
       "      <td>20</td>\n",
       "    </tr>\n",
       "    <tr>\n",
       "      <th>4</th>\n",
       "      <td>4</td>\n",
       "      <td>91</td>\n",
       "      <td>4</td>\n",
       "      <td>30</td>\n",
       "      <td>10</td>\n",
       "      <td>4</td>\n",
       "      <td>16</td>\n",
       "      <td>15</td>\n",
       "      <td>14</td>\n",
       "    </tr>\n",
       "  </tbody>\n",
       "</table>\n",
       "</div>"
      ],
      "text/plain": [
       "        열1      열2       열3        열4      열5      열6          열7          열8  \\\n",
       "0  Matches  Scores  Assists  Rebounds  Steals  Blocks  2-pointers  3-pointers   \n",
       "1        7     144        7        38       9      13          56           3   \n",
       "2        7     124        7        21      13       2          16          27   \n",
       "3        4     108        9        22       8       2          23          14   \n",
       "4        4      91        4        30      10       4          16          15   \n",
       "\n",
       "           열9  \n",
       "0  Free_Throw  \n",
       "1          23  \n",
       "2          11  \n",
       "3          20  \n",
       "4          14  "
      ]
     },
     "execution_count": 14,
     "metadata": {},
     "output_type": "execute_result"
    }
   ],
   "source": [
    "df_2022_mid.head()"
   ]
  },
  {
   "cell_type": "code",
   "execution_count": 15,
   "id": "735c8242",
   "metadata": {},
   "outputs": [
    {
     "data": {
      "text/plain": [
       "열1       Matches\n",
       "열2        Scores\n",
       "열3       Assists\n",
       "열4      Rebounds\n",
       "열5        Steals\n",
       "열6        Blocks\n",
       "열7    2-pointers\n",
       "열8    3-pointers\n",
       "열9    Free_Throw\n",
       "Name: 0, dtype: object"
      ]
     },
     "execution_count": 15,
     "metadata": {},
     "output_type": "execute_result"
    }
   ],
   "source": [
    "df_2022_mid.iloc[0]"
   ]
  },
  {
   "cell_type": "code",
   "execution_count": 16,
   "id": "341aea64",
   "metadata": {},
   "outputs": [],
   "source": [
    "#Set Column Names\n",
    "df_2022_mid.columns = df_2022_mid.iloc[0]\n",
    "df_2022_south.columns = df_2022_south.iloc[0]\n",
    "df_2022_finals.columns = df_2022_south.iloc[0]\n",
    "df_2021_mid.columns = df_2021_mid.iloc[0]\n",
    "df_2021_south.columns = df_2021_south.iloc[0]\n",
    "df_2021_finals.columns = df_2021_finals.iloc[0]\n",
    "df_2020_mid.columns = df_2020_mid.iloc[0]\n",
    "df_2020_south.columns = df_2020_south.iloc[0]\n",
    "df_2020_finals.columns = df_2020_finals.iloc[0]"
   ]
  },
  {
   "cell_type": "code",
   "execution_count": 17,
   "id": "c52bee09",
   "metadata": {},
   "outputs": [],
   "source": [
    "#Delete the first rwo which was column names\n",
    "df_2022_mid.drop(0, inplace=True)\n",
    "df_2022_south.drop(0, inplace=True)\n",
    "df_2022_finals.drop(0, inplace=True)\n",
    "df_2021_mid.drop(0, inplace=True)\n",
    "df_2021_south.drop(0, inplace=True)\n",
    "df_2021_finals.drop(0, inplace=True)\n",
    "df_2020_mid.drop(0, inplace=True)\n",
    "df_2020_south.drop(0, inplace=True)\n",
    "df_2020_finals.drop(0, inplace=True)"
   ]
  },
  {
   "cell_type": "code",
   "execution_count": 114,
   "id": "6c202372",
   "metadata": {},
   "outputs": [],
   "source": [
    "#Transfrom data types to integer for \n",
    "df_2022_mid = df_2022_mid.astype(int)\n",
    "df_2022_south = df_2022_south.astype(int)\n",
    "df_2022_finals = df_2022_finals.astype(int)\n",
    "df_2021_mid = df_2021_mid.astype(int)\n",
    "df_2021_south = df_2021_south.astype(int)\n",
    "df_2021_finals = df_2021_finals.astype(int)\n",
    "df_2020_mid = df_2020_mid.astype(int)\n",
    "df_2020_south = df_2020_south.astype(int)\n",
    "df_2020_finals = df_2020_finals.astype(int)"
   ]
  },
  {
   "cell_type": "code",
   "execution_count": 120,
   "id": "bc86c96b",
   "metadata": {},
   "outputs": [],
   "source": [
    "#Set index to \n",
    "# df_2022_mid = df_2022_mid.reset_index(drop=False)\n",
    "# df_2022_south = df_2022_south.reset_index(drop=False)\n",
    "# df_2022_finals = df_2022_finals.reset_index(drop=False)\n",
    "# df_2021_mid = df_2021_mid.reset_index(drop=False)\n",
    "# df_2021_south = df_2021_south.reset_index(drop=False)\n",
    "# df_2021_fianls = df_2021_finals.reset_index(drop=False)\n",
    "# df_2020_mid = df_2020_mid.reset_index(drop=False)\n",
    "# df_2020_south = df_2020_south.reset_index(drop=False)\n",
    "# df_2020_finals = df_2020_finals.reset_index(drop=False)"
   ]
  },
  {
   "cell_type": "code",
   "execution_count": 20,
   "id": "eb1c425b",
   "metadata": {},
   "outputs": [],
   "source": [
    "#Gathering DataFrame based on year\n",
    "df_2022 = pd.concat([df_2022_mid, df_2022_south, df_2022_finals])\n",
    "df_2021 = pd.concat([df_2021_mid, df_2021_south, df_2021_finals])\n",
    "df_2020 = pd.concat([df_2020_mid, df_2020_south, df_2020_finals])\n",
    "#df_2022 = pd.concat([df_2022_mid, df_2022_south, df_2022_finals], keys=['df_2022_mid', 'df_2022_south', 'div_2022_finals'])\n",
    "#df_2021 = pd.concat([df_2021_mid, df_2021_south, df_2021_finals], keys=['df_2021_mid', 'df_2021_south', 'div_2021_finals'])\n",
    "#df_2020 = pd.concat([df_2020_mid, df_2020_south, df_2020_finals], keys=['df_2020_mid', 'df_2020_south', 'div_2020_finals'])"
   ]
  },
  {
   "cell_type": "code",
   "execution_count": 21,
   "id": "d33fda98",
   "metadata": {},
   "outputs": [],
   "source": [
    "#Gathering DataFrame based on divison\n",
    "df_mid = pd.concat([df_2022_mid, df_2021_mid, df_2020_mid])\n",
    "df_south = pd.concat([df_2022_south, df_2021_south, df_2020_south])"
   ]
  },
  {
   "cell_type": "code",
   "execution_count": 23,
   "id": "3fa4c5b9",
   "metadata": {},
   "outputs": [],
   "source": [
    "#Writing Excel files\n",
    "df_2022_mid.to_excel('data/df_2022_mid.xlsx')\n",
    "df_2022_south.to_excel('data/df_2022_south.xlsx')\n",
    "df_2022_finals.to_excel('data/df_2022_finals.xlsx')\n",
    "df_2021_mid.to_excel('data/df_2021_mid.xlsx')\n",
    "df_2021_south.to_excel('data/df_2021_south.xlsx')\n",
    "df_2021_finals.to_excel('data/df_2021_finals.xlsx')\n",
    "df_2020_mid.to_excel('data/df_2020_mid.xlsx')\n",
    "df_2020_south.to_excel('data/df_2020_south.xlsx')\n",
    "df_2020_finals.to_excel('data/df_2020_finals.xlsx')\n",
    "df_2022.to_excel('data/df_2022.xlsx')\n",
    "df_2021.to_excel('data/df_2021.xlsx')\n",
    "df_2020.to_excel('data/df_2020.xlsx')\n",
    "df_mid.to_excel('data/df_mid.xlsx')\n",
    "df_south.to_excel('data/df_south.xlsx')"
   ]
  }
 ],
 "metadata": {
  "kernelspec": {
   "display_name": "Python 3",
   "language": "python",
   "name": "python3"
  },
  "language_info": {
   "codemirror_mode": {
    "name": "ipython",
    "version": 3
   },
   "file_extension": ".py",
   "mimetype": "text/x-python",
   "name": "python",
   "nbconvert_exporter": "python",
   "pygments_lexer": "ipython3",
   "version": "3.8.8"
  }
 },
 "nbformat": 4,
 "nbformat_minor": 5
}
